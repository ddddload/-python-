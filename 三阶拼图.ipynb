{
 "cells": [
  {
   "cell_type": "markdown",
   "metadata": {},
   "source": [
    "### 游戏初始化，设置标题和游戏界面的大小"
   ]
  },
  {
   "cell_type": "code",
   "execution_count": 1,
   "metadata": {},
   "outputs": [
    {
     "name": "stdout",
     "output_type": "stream",
     "text": [
      "pygame 1.9.4\n",
      "Hello from the pygame community. https://www.pygame.org/contribute.html\n"
     ]
    }
   ],
   "source": [
    "import random\n",
    "import pygame\n",
    "\n",
    "# 初始化\n",
    "pygame.init()\n",
    "# 窗口标题\n",
    "pygame.display.set_caption('拼图游戏')\n",
    "# 窗口大小\n",
    "s = pygame.display.set_mode((1200, 600))"
   ]
  },
  {
   "cell_type": "markdown",
   "metadata": {},
   "source": [
    "### 绘制初始地图并且设置胜利地图，这里使用数组的方式进行处理"
   ]
  },
  {
   "cell_type": "code",
   "execution_count": null,
   "metadata": {},
   "outputs": [],
   "source": [
    "# 绘图地图\n",
    "imgMap = [\n",
    "    [0, 1, 2],\n",
    "    [3, 4, 5],\n",
    "    [6, 7, 8]\n",
    "]\n",
    "\n",
    "# 判断胜利的地图\n",
    "winMap = [\n",
    "    [0, 1, 2],\n",
    "    [3, 4, 5],\n",
    "    [6, 7, 8]\n",
    "]"
   ]
  },
  {
   "cell_type": "markdown",
   "metadata": {},
   "source": [
    "### 设置游戏的点击事件，简单的说就是鼠标点击图片进行移动的逻辑，主要的逻辑代码就是做了if判断，比较容易理解"
   ]
  },
  {
   "cell_type": "code",
   "execution_count": null,
   "metadata": {},
   "outputs": [],
   "source": [
    "# 游戏的单击事件\n",
    "def click(x, y, map):\n",
    "    if y - 1 >= 0 and map[y - 1][x] == 8:\n",
    "        map[y][x], map[y - 1][x] = map[y - 1][x], map[y][x]\n",
    "    elif y + 1 <= 2 and map[y + 1][x] == 8:\n",
    "        map[y][x], map[y + 1][x] = map[y + 1][x], map[y][x]\n",
    "    elif x - 1 >= 0 and map[y][x - 1] == 8:\n",
    "        map[y][x], map[y][x - 1] = map[y][x - 1], map[y][x]\n",
    "    elif x + 1 <= 2 and map[y][x + 1] == 8:\n",
    "        map[y][x], map[y][x + 1] = map[y][x + 1], map[y][x]"
   ]
  },
  {
   "cell_type": "markdown",
   "metadata": {},
   "source": [
    "### 使用随机数的方式将地图进行打乱"
   ]
  },
  {
   "cell_type": "code",
   "execution_count": null,
   "metadata": {},
   "outputs": [],
   "source": [
    "# 打乱地图\n",
    "def randMap(map):\n",
    "    for i in range(1000):\n",
    "        x = random.randint(0, 2)\n",
    "        y = random.randint(0, 2)\n",
    "        click(x, y, map)"
   ]
  },
  {
   "cell_type": "markdown",
   "metadata": {},
   "source": [
    "### 加载我们的照片，并且将地图进行随机打乱。设置游戏的主循环，获取鼠标的坐标，判断鼠标是否在操作范围内，计算鼠标点击的图块，判断操作是否成功"
   ]
  },
  {
   "cell_type": "code",
   "execution_count": null,
   "metadata": {},
   "outputs": [],
   "source": [
    "# 加载图片\n",
    "img = pygame.image.load('E:\\\\300 数据时代\\\\1.jpg')\n",
    "# 随机地图\n",
    "randMap(imgMap)\n",
    "# 游戏主循环\n",
    "while True:\n",
    "    # 延时32毫秒,相当于FPS=30\n",
    "    pygame.time.delay(32)\n",
    "    for event in pygame.event.get():\n",
    "        # 窗口的关闭事件\n",
    "        if event.type == pygame.QUIT:\n",
    "            exit()\n",
    "        elif event.type == pygame.MOUSEBUTTONDOWN:  \n",
    "            if pygame.mouse.get_pressed() == (1, 0, 0):  \n",
    "                mx, my = pygame.mouse.get_pos() \n",
    "                if mx < 498 and my < 498:  \n",
    "                    x = int(mx / 166)  \n",
    "                    y = int(my / 166)\n",
    "                    click(x, y, imgMap)  \n",
    "                    if imgMap == winMap:\n",
    "                        print(\"成功！\")\n",
    "                        \n",
    "                        \n",
    "#将背景进行填充，绘制图片和设置参考图片                        \n",
    "                        \n",
    "                        \n",
    "    # 背景色填充成绿色\n",
    "    s.fill((0, 255, 0))\n",
    "    # 绘图\n",
    "    for y in range(3):\n",
    "        for x in range(3):\n",
    "            i = imgMap[y][x]\n",
    "            if i == 8:  # 8号图块不用绘制\n",
    "                continue\n",
    "            dx = (i % 3) * 166  # 计算绘图偏移量\n",
    "            dy = (int(i / 3)) * 166\n",
    "            s.blit(img, (x * 166, y * 166), (dx, dy, 166, 166))\n",
    "    # 画参考图片\n",
    "    s.blit(img, (500, 0))\n",
    "    # 刷新界面\n",
    "    pygame.display.flip()"
   ]
  },
  {
   "cell_type": "code",
   "execution_count": null,
   "metadata": {},
   "outputs": [],
   "source": []
  },
  {
   "cell_type": "code",
   "execution_count": null,
   "metadata": {},
   "outputs": [],
   "source": []
  },
  {
   "cell_type": "code",
   "execution_count": null,
   "metadata": {},
   "outputs": [],
   "source": []
  }
 ],
 "metadata": {
  "kernelspec": {
   "display_name": "Python 3",
   "language": "python",
   "name": "python3"
  },
  "language_info": {
   "codemirror_mode": {
    "name": "ipython",
    "version": 3
   },
   "file_extension": ".py",
   "mimetype": "text/x-python",
   "name": "python",
   "nbconvert_exporter": "python",
   "pygments_lexer": "ipython3",
   "version": "3.7.0"
  }
 },
 "nbformat": 4,
 "nbformat_minor": 2
}
