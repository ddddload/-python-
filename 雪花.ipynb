{
 "cells": [
  {
   "cell_type": "code",
   "execution_count": 3,
   "metadata": {},
   "outputs": [],
   "source": [
    "import turtle\n",
    "from turtle import *\n",
    "def koch(size,n):\n",
    "    if n == 0:\n",
    "        turtle.fd(size)\n",
    "    else:\n",
    "        for angle in [0,60,-120,60]:\n",
    "            turtle.left(angle)\n",
    "            koch(size/3,n-1)\n",
    "def main():\n",
    "    turtle.setup(600,600)\n",
    "    turtle.penup()\n",
    "    turtle.goto(-200,100)\n",
    "    turtle.pendown()\n",
    "    turtle.pensize(2)\n",
    "    level = 1\n",
    "    koch(400,level)\n",
    "    turtle.hideturtle()\n",
    "    done()\n",
    "main()"
   ]
  },
  {
   "cell_type": "code",
   "execution_count": null,
   "metadata": {},
   "outputs": [],
   "source": [
    "'''\n",
    "先给大家介绍科赫曲线，科赫曲线在众多经典数学曲线中非常著名，由瑞典数学家冯 科赫于1904年提出，由于其形态类似雪花，也被成为雪花曲线。\n",
    "\n",
    "下面对科赫曲线基本概念和绘制方法做个简单的介绍：正整数n代表科赫曲线的阶数，表示生成科赫曲线过程的操作次数。科赫曲线初始化阶数为0，\n",
    "表示一个长度为L的直线。对于直线L将其等分为3段，中间一段用边长为L/3的等边三角形的两个边替代，得到1阶科赫曲线，它包含4条线段。进一步\n",
    "对每条线段重复同样的操作后得到的2阶科赫曲线。重复操作N次可以得到N阶科赫曲线。\n",
    "\n",
    "'''"
   ]
  },
  {
   "cell_type": "code",
   "execution_count": 5,
   "metadata": {},
   "outputs": [],
   "source": [
    "\n",
    "\n",
    "import turtle\n",
    "from turtle import *\n",
    "def koch(size, n):\n",
    "    if n == 0:\n",
    "        turtle.fd(size)\n",
    "    else:\n",
    "        for angle in [0, 60, -120, 60]:\n",
    "            turtle.left(angle)\n",
    "            koch(size / 3, n - 1)\n",
    "def main():\n",
    "    turtle.setup(600,600)\n",
    "    turtle.pen(speed = 0, pencolor = 'blue')\n",
    "    turtle.penup()\n",
    "    turtle.goto(-200,100)\n",
    "    turtle.pendown()\n",
    "    turtle.pensize(1)\n",
    "    level = 5\n",
    "    koch(400,level)\n",
    "    turtle.right(120)\n",
    "    koch(400, level)\n",
    "    turtle.right(120)\n",
    "    koch(400, level)\n",
    "    turtle.hideturtle()\n",
    "    done()\n",
    "main()"
   ]
  },
  {
   "cell_type": "code",
   "execution_count": null,
   "metadata": {},
   "outputs": [],
   "source": []
  }
 ],
 "metadata": {
  "kernelspec": {
   "display_name": "Python 3",
   "language": "python",
   "name": "python3"
  },
  "language_info": {
   "codemirror_mode": {
    "name": "ipython",
    "version": 3
   },
   "file_extension": ".py",
   "mimetype": "text/x-python",
   "name": "python",
   "nbconvert_exporter": "python",
   "pygments_lexer": "ipython3",
   "version": "3.7.0"
  }
 },
 "nbformat": 4,
 "nbformat_minor": 2
}
